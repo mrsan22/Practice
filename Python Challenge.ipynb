{
 "cells": [
  {
   "cell_type": "markdown",
   "metadata": {},
   "source": [
    "### PART 1"
   ]
  },
  {
   "cell_type": "code",
   "execution_count": 7,
   "metadata": {
    "collapsed": true
   },
   "outputs": [],
   "source": [
    "import csv"
   ]
  },
  {
   "cell_type": "code",
   "execution_count": 16,
   "metadata": {
    "collapsed": false
   },
   "outputs": [],
   "source": [
    "# 1-2)\n",
    "def read_file():\n",
    "    with open(\"input_data.csv\") as csvfile:\n",
    "        reader=csv.DictReader(csvfile)\n",
    "        data = [(row['RECORD_CREATION_DATE'], int(row['LOAN_AMOUNT'])) for row in reader]\n",
    "        # expanding max function to few lines\n",
    "        max_loan_amount = max(data, key=lambda x: x[1])[1]\n",
    "        max_loan_amount_index = map(lambda x:x[1],data).index(max_loan_amount)\n",
    "        print \"RECORD_CREATION_DATE in the file immediately\"\\\n",
    "        \" preceding the max observed LOAN_AMOUNT:\",data[map(lambda x:x[1],data).index(max_loan_amount)-1][0]"
   ]
  },
  {
   "cell_type": "code",
   "execution_count": 17,
   "metadata": {
    "collapsed": false
   },
   "outputs": [
    {
     "name": "stdout",
     "output_type": "stream",
     "text": [
      "RECORD_CREATION_DATE in the file immediately preceding the max observed LOAN_AMOUNT: 26May2014:18:03:41.000000\n"
     ]
    }
   ],
   "source": [
    "read_file()"
   ]
  },
  {
   "cell_type": "markdown",
   "metadata": {},
   "source": [
    "3) If the input data were not sorted by RECORD_CREATION_DATE, how would you solve this problem?\n",
    "* I would have solved this problem in the same way as I have solved now. However, If it were not sorted then I would have done a sort of RECORD_CREATION_DATE and solved the problem, just to arrange the data in some fashion."
   ]
  },
  {
   "cell_type": "markdown",
   "metadata": {},
   "source": [
    "4) How would you modify the max comparison key and zip operation so that your code returns the RECORD_CREATION_DATE before the first observed maximal loan amount? Before the last?\n",
    "* In case of first observed maximal loan amount, I would have to keep a check that if the next LOAN_AMOUNT is greater than the previous LOAN_AMOUNT. As soon as I see a greater value, I have to stop my iteration and return the date prior to first observed max LOAN_AMOUNT.\n",
    "* In case of last observed maximal loan amount, Most of the time the max(LOAN_AMOUNT) should give the last maximum LOAN_AMOUNT. If that is not the case, then once we have the max value of loan amount, I will extract the index and check if we more values in the list and if any is greater than the observer max loan amount till now. If we have, replace out max amount with that value and repeat."
   ]
  },
  {
   "cell_type": "markdown",
   "metadata": {},
   "source": [
    "### PART 2"
   ]
  },
  {
   "cell_type": "code",
   "execution_count": 1,
   "metadata": {
    "collapsed": true
   },
   "outputs": [],
   "source": [
    "import re\n",
    "import numpy as np\n",
    "import pandas as pd"
   ]
  },
  {
   "cell_type": "code",
   "execution_count": 30,
   "metadata": {
    "collapsed": true
   },
   "outputs": [],
   "source": [
    "# Reading the input file\n",
    "df = pd.read_csv(\"input_data.csv\")"
   ]
  },
  {
   "cell_type": "code",
   "execution_count": 31,
   "metadata": {
    "collapsed": false
   },
   "outputs": [
    {
     "name": "stdout",
     "output_type": "stream",
     "text": [
      "        RECORD_CREATION_DATE  LOAN_AMOUNT CREDIT_RANGE     EXISTING_DEBT  \\\n",
      "0  01May2014:12:56:37.000000         2500      780-799               NaN   \n",
      "1  01May2014:16:55:30.000000         4700      760-779   $10,001-$20,000   \n",
      "2  01May2014:17:05:59.000000         5800      740-759   $20,001-$30,000   \n",
      "3  02May2014:10:51:57.000000         2500      700-719  $90,001-$100,000   \n",
      "4  02May2014:14:19:03.000000         4600      780-799   $20,001-$30,000   \n",
      "\n",
      "                    AGENT_NOTES      OFFICE_LOCATION      entry_recorded  \n",
      "0    Monthly gross income 1,250     WASHINGTON STATE 2014-05-01 12:56:37  \n",
      "1  Annual gross income: $15,000  NORTHERN CALIFORNIA 2014-05-01 16:55:30  \n",
      "2  Annual gross income: $15,000     WASHINGTON STATE 2014-05-01 17:05:59  \n",
      "3    Monthly gross income 5,480  SOUTHERN CALIFORNIA 2014-05-02 10:51:57  \n",
      "4                           NaN     WASHINGTON STATE 2014-05-02 14:19:03  \n"
     ]
    }
   ],
   "source": [
    "# 5) Set to a pandas datetime\n",
    "format = '%d%b%Y:%H:%M:%S.%f'\n",
    "df[\"entry_recorded\"] = pd.to_datetime(df['RECORD_CREATION_DATE'], format=format)\n",
    "print df.head()"
   ]
  },
  {
   "cell_type": "code",
   "execution_count": 32,
   "metadata": {
    "collapsed": false
   },
   "outputs": [
    {
     "name": "stdout",
     "output_type": "stream",
     "text": [
      "        RECORD_CREATION_DATE  LOAN_AMOUNT CREDIT_RANGE     EXISTING_DEBT  \\\n",
      "0  01May2014:12:56:37.000000         2500      780-799               NaN   \n",
      "1  01May2014:16:55:30.000000         4700      760-779   $10,001-$20,000   \n",
      "2  01May2014:17:05:59.000000         5800      740-759   $20,001-$30,000   \n",
      "3  02May2014:10:51:57.000000         2500      700-719  $90,001-$100,000   \n",
      "4  02May2014:14:19:03.000000         4600      780-799   $20,001-$30,000   \n",
      "\n",
      "                    AGENT_NOTES      OFFICE_LOCATION      entry_recorded  \\\n",
      "0    Monthly gross income 1,250     WASHINGTON STATE 2014-05-01 12:56:37   \n",
      "1  Annual gross income: $15,000  NORTHERN CALIFORNIA 2014-05-01 16:55:30   \n",
      "2  Annual gross income: $15,000     WASHINGTON STATE 2014-05-01 17:05:59   \n",
      "3    Monthly gross income 5,480  SOUTHERN CALIFORNIA 2014-05-02 10:51:57   \n",
      "4                           NaN     WASHINGTON STATE 2014-05-02 14:19:03   \n",
      "\n",
      "  monthly_income  \n",
      "0          $1250  \n",
      "1          $1250  \n",
      "2          $1250  \n",
      "3          $5480  \n",
      "4            NaN  \n"
     ]
    }
   ],
   "source": [
    "# 6-10) Returns monthly net income if it appears in the AGENT_NOTES field (divide annual income by 12)\n",
    "def monthly_income_parser(x):\n",
    "    m_amount = 0\n",
    "    a_amount = 0\n",
    "    month_match = False\n",
    "    annual_match = False\n",
    "    if str(x).find('nan') > -1:\n",
    "        return np.nan\n",
    "\n",
    "    if x.find('Monthly gross income') > -1:\n",
    "        month_match = True\n",
    "        m_amount_lst = re.findall('\\d+,*\\d*', x)\n",
    "        if len(m_amount_lst) > 1:\n",
    "            # utility function\n",
    "            amount_lst = monthly_income_parser_util(m_amount_lst)\n",
    "            m_amount = max(amount_lst) - min(amount_lst)\n",
    "            m_amount = '$'+str(m_amount)\n",
    "        else:\n",
    "            num = ''.join(filter(lambda x:  x.isdigit(), m_amount_lst[0]))\n",
    "            m_amount = '$'+num\n",
    "\n",
    "    elif x.find('Annual gross income') > -1:\n",
    "        annual_match = True\n",
    "        m_amount_annual_lst = re.findall('\\d+,*\\d*', x)\n",
    "        if len(m_amount_annual_lst) > 1:\n",
    "            # utility function\n",
    "            amount_lst = monthly_income_parser_util(m_amount_annual_lst)\n",
    "            m_income = max(amount_lst)//12\n",
    "            a_amount = m_income - min(amount_lst)\n",
    "            a_amount = '$' + str(a_amount)\n",
    "        else:\n",
    "            num = int(''.join(filter(lambda x:  x.isdigit(), m_amount_annual_lst[0])))\n",
    "            a_amount = num//12\n",
    "            a_amount = '$' + str(a_amount)\n",
    "\n",
    "    if month_match:\n",
    "        return m_amount\n",
    "    elif annual_match:\n",
    "        return a_amount\n",
    "    else:\n",
    "        return np.nan\n",
    "\n",
    "# Utility function to parse income as int\n",
    "def monthly_income_parser_util(m_amount_lst):\n",
    "    amount_lst = []\n",
    "    for each in m_amount_lst:\n",
    "        num = int(''.join(filter(lambda x:  x.isdigit(), each)))\n",
    "        amount_lst.append(num)\n",
    "    return amount_lst\n",
    "\n",
    "df[\"monthly_income\"] = df[\"AGENT_NOTES\"].apply(monthly_income_parser)\n",
    "print df.head()"
   ]
  },
  {
   "cell_type": "code",
   "execution_count": 33,
   "metadata": {
    "collapsed": false
   },
   "outputs": [
    {
     "name": "stdout",
     "output_type": "stream",
     "text": [
      "        RECORD_CREATION_DATE  LOAN_AMOUNT CREDIT_RANGE     EXISTING_DEBT  \\\n",
      "0  01May2014:12:56:37.000000         2500      780-799               NaN   \n",
      "1  01May2014:16:55:30.000000         4700      760-779   $10,001-$20,000   \n",
      "2  01May2014:17:05:59.000000         5800      740-759   $20,001-$30,000   \n",
      "3  02May2014:10:51:57.000000         2500      700-719  $90,001-$100,000   \n",
      "4  02May2014:14:19:03.000000         4600      780-799   $20,001-$30,000   \n",
      "\n",
      "                    AGENT_NOTES      OFFICE_LOCATION      entry_recorded  \\\n",
      "0    Monthly gross income 1,250     WASHINGTON STATE 2014-05-01 12:56:37   \n",
      "1  Annual gross income: $15,000  NORTHERN CALIFORNIA 2014-05-01 16:55:30   \n",
      "2  Annual gross income: $15,000     WASHINGTON STATE 2014-05-01 17:05:59   \n",
      "3    Monthly gross income 5,480  SOUTHERN CALIFORNIA 2014-05-02 10:51:57   \n",
      "4                           NaN     WASHINGTON STATE 2014-05-02 14:19:03   \n",
      "\n",
      "  monthly_income credit_score  \n",
      "0          $1250          780  \n",
      "1          $1250          760  \n",
      "2          $1250          740  \n",
      "3          $5480          700  \n",
      "4            NaN          780  \n"
     ]
    }
   ],
   "source": [
    "# 11) Set to be equal to the lower bound of the credit score range.\n",
    "def credit_score_format(x):\n",
    "    if x.find('-') > -1:\n",
    "        return x.split('-')[0]\n",
    "    else:\n",
    "        return x\n",
    "\n",
    "df[\"credit_score\"] = df[\"CREDIT_RANGE\"].apply(credit_score_format)\n",
    "print df.head()"
   ]
  },
  {
   "cell_type": "code",
   "execution_count": 35,
   "metadata": {
    "collapsed": false
   },
   "outputs": [
    {
     "name": "stdout",
     "output_type": "stream",
     "text": [
      "        RECORD_CREATION_DATE  LOAN_AMOUNT CREDIT_RANGE     EXISTING_DEBT  \\\n",
      "0  01May2014:12:56:37.000000         2500      780-799               NaN   \n",
      "1  01May2014:16:55:30.000000         4700      760-779   $10,001-$20,000   \n",
      "2  01May2014:17:05:59.000000         5800      740-759   $20,001-$30,000   \n",
      "3  02May2014:10:51:57.000000         2500      700-719  $90,001-$100,000   \n",
      "4  02May2014:14:19:03.000000         4600      780-799   $20,001-$30,000   \n",
      "\n",
      "                    AGENT_NOTES      OFFICE_LOCATION      entry_recorded  \\\n",
      "0    Monthly gross income 1,250     WASHINGTON STATE 2014-05-01 12:56:37   \n",
      "1  Annual gross income: $15,000  NORTHERN CALIFORNIA 2014-05-01 16:55:30   \n",
      "2  Annual gross income: $15,000     WASHINGTON STATE 2014-05-01 17:05:59   \n",
      "3    Monthly gross income 5,480  SOUTHERN CALIFORNIA 2014-05-02 10:51:57   \n",
      "4                           NaN     WASHINGTON STATE 2014-05-02 14:19:03   \n",
      "\n",
      "  monthly_income credit_score     debt  \n",
      "0          $1250          780      NaN  \n",
      "1          $1250          760  $10,001  \n",
      "2          $1250          740  $20,001  \n",
      "3          $5480          700  $90,001  \n",
      "4            NaN          780  $20,001  \n"
     ]
    }
   ],
   "source": [
    "# 12) Set to be equal to the lower bound of the debt range\n",
    "def lower_debt_range(x):\n",
    "    if str(x).find('-') > -1:\n",
    "        return x.split('-')[0]\n",
    "    elif x == 'NaN':\n",
    "        return np.NaN\n",
    "    else:\n",
    "        return x\n",
    "df[\"debt\"] = df[\"EXISTING_DEBT\"].apply(lower_debt_range)\n",
    "print df.head()"
   ]
  },
  {
   "cell_type": "markdown",
   "metadata": {},
   "source": [
    "13) What is the advantage of using built-in pandas string methods as opposed to apply()?\n",
    "* The built-in pandas string method makes it easy to operate on each element of the array. They also handle all mising automatically. We also get many of string methods such as str.split(), str.contains() etc., which are really helpful in processing and transforming data\n",
    "* Apply() works on entire input axis of DataFrame i.e. row/column. Also, it cannot handle missing value automatically."
   ]
  },
  {
   "cell_type": "code",
   "execution_count": 36,
   "metadata": {
    "collapsed": false
   },
   "outputs": [
    {
     "name": "stdout",
     "output_type": "stream",
     "text": [
      "Average number of hours between record creations: 0 days 02:24:53\n"
     ]
    }
   ],
   "source": [
    "# 14) Average number of hours between record creations.\n",
    "l = len(df.entry_recorded)-1\n",
    "for i in xrange(l):\n",
    "    df['time_diff'] = df.entry_recorded[i+1] - df.entry_recorded[i]\n",
    "sum = df['time_diff'].sum()\n",
    "avg = sum/len(df['time_diff'])\n",
    "print \"Average number of hours between record creations:\",avg"
   ]
  },
  {
   "cell_type": "code",
   "execution_count": 37,
   "metadata": {
    "collapsed": false
   },
   "outputs": [
    {
     "name": "stdout",
     "output_type": "stream",
     "text": [
      "Records are from california office:  2405\n"
     ]
    }
   ],
   "source": [
    "# 15) How many records are from california office?\n",
    "print \"Records are from california office: \",len(df[df['OFFICE_LOCATION'].str.contains(\"CALIFORNIA\")])"
   ]
  }
 ],
 "metadata": {
  "kernelspec": {
   "display_name": "Python 2",
   "language": "python",
   "name": "python2"
  },
  "language_info": {
   "codemirror_mode": {
    "name": "ipython",
    "version": 2
   },
   "file_extension": ".py",
   "mimetype": "text/x-python",
   "name": "python",
   "nbconvert_exporter": "python",
   "pygments_lexer": "ipython2",
   "version": "2.7.11"
  }
 },
 "nbformat": 4,
 "nbformat_minor": 0
}
